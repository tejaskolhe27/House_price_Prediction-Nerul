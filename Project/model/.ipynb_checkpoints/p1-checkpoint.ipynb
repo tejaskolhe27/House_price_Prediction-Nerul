{
 "cells": [
  {
   "cell_type": "code",
   "execution_count": 1,
   "id": "83a06008",
   "metadata": {},
   "outputs": [],
   "source": [
    "import pandas as pd\n",
    "import numpy as np\n",
    "from matplotlib import pyplot as plt\n",
    "%matplotlib inline\n",
    "import matplotlib \n",
    "matplotlib.rcParams[\"figure.figsize\"] = (20,10)"
   ]
  },
  {
   "cell_type": "code",
   "execution_count": 2,
   "id": "355304af",
   "metadata": {},
   "outputs": [
    {
     "data": {
      "text/html": [
       "<div>\n",
       "<style scoped>\n",
       "    .dataframe tbody tr th:only-of-type {\n",
       "        vertical-align: middle;\n",
       "    }\n",
       "\n",
       "    .dataframe tbody tr th {\n",
       "        vertical-align: top;\n",
       "    }\n",
       "\n",
       "    .dataframe thead th {\n",
       "        text-align: right;\n",
       "    }\n",
       "</style>\n",
       "<table border=\"1\" class=\"dataframe\">\n",
       "  <thead>\n",
       "    <tr style=\"text-align: right;\">\n",
       "      <th></th>\n",
       "      <th>Image</th>\n",
       "      <th>price</th>\n",
       "      <th>emi</th>\n",
       "      <th>a</th>\n",
       "      <th>size</th>\n",
       "      <th>b</th>\n",
       "      <th>c</th>\n",
       "      <th>society</th>\n",
       "      <th>d</th>\n",
       "      <th>location</th>\n",
       "      <th>...</th>\n",
       "      <th>total_sqft</th>\n",
       "      <th>price_per_sqft</th>\n",
       "      <th>Unnamed: 13</th>\n",
       "      <th>description</th>\n",
       "      <th>image</th>\n",
       "      <th>e</th>\n",
       "      <th>agent</th>\n",
       "      <th>Title</th>\n",
       "      <th>cta</th>\n",
       "      <th>cta8</th>\n",
       "    </tr>\n",
       "  </thead>\n",
       "  <tbody>\n",
       "    <tr>\n",
       "      <th>0</th>\n",
       "      <td>NaN</td>\n",
       "      <td>2 Cr - 3.7 Cr</td>\n",
       "      <td>EMI starts at 99.29 K</td>\n",
       "      <td>NaN</td>\n",
       "      <td>NaN</td>\n",
       "      <td>NaN</td>\n",
       "      <td>NaN</td>\n",
       "      <td>NaN</td>\n",
       "      <td>NaN</td>\n",
       "      <td>Nerul,Navi Mumbai</td>\n",
       "      <td>...</td>\n",
       "      <td>Jun, 2024</td>\n",
       "      <td>22.08 K/sq.ft</td>\n",
       "      <td>NaN</td>\n",
       "      <td>L And T Seawoods Residences North Towers is a ...</td>\n",
       "      <td>https://is1-3.housingcdn.com/fb15c03b/616f2027...</td>\n",
       "      <td>NaN</td>\n",
       "      <td>HomeBazaar.com</td>\n",
       "      <td>Seller</td>\n",
       "      <td>View Phone</td>\n",
       "      <td>Contact</td>\n",
       "    </tr>\n",
       "    <tr>\n",
       "      <th>1</th>\n",
       "      <td>NaN</td>\n",
       "      <td>20.0 L - 33.5 L</td>\n",
       "      <td>EMI starts at 10.59 K</td>\n",
       "      <td>NaN</td>\n",
       "      <td>NaN</td>\n",
       "      <td>NaN</td>\n",
       "      <td>NaN</td>\n",
       "      <td>NaN</td>\n",
       "      <td>NaN</td>\n",
       "      <td>Khopoli,Navi Mumbai</td>\n",
       "      <td>...</td>\n",
       "      <td>Ready to Move</td>\n",
       "      <td>NaN</td>\n",
       "      <td>NaN</td>\n",
       "      <td>Situated in Khopoli at Shri Ram Nagar, Neelkan...</td>\n",
       "      <td>https://is1-3.housingcdn.com/0b8ad14c/75ff3828...</td>\n",
       "      <td>NaN</td>\n",
       "      <td>Neelkanth Properties</td>\n",
       "      <td>Developer</td>\n",
       "      <td>View Phone</td>\n",
       "      <td>Contact</td>\n",
       "    </tr>\n",
       "    <tr>\n",
       "      <th>2</th>\n",
       "      <td>https://is1-2.housingcdn.com/01c16c28/1dafa833...</td>\n",
       "      <td>2.5 Cr</td>\n",
       "      <td>EMI starts at 1.24 Lacs</td>\n",
       "      <td>NaN</td>\n",
       "      <td>2 BHK</td>\n",
       "      <td>NaN</td>\n",
       "      <td>NaN</td>\n",
       "      <td>Metro Tulsi Sagar</td>\n",
       "      <td>NaN</td>\n",
       "      <td>Sector 28, Nerul,Navi Mumbai</td>\n",
       "      <td>...</td>\n",
       "      <td>1200 sq.ft</td>\n",
       "      <td>20.83 K/sq.ft</td>\n",
       "      <td>NaN</td>\n",
       "      <td>2 BHK for sale on PALM BEACH ROAD at Nerul, on...</td>\n",
       "      <td>https://is1-2.housingcdn.com/fb15c03b/3e887d39...</td>\n",
       "      <td>NaN</td>\n",
       "      <td>Shokin Bafna</td>\n",
       "      <td>NaN</td>\n",
       "      <td>View Phone</td>\n",
       "      <td>Contact</td>\n",
       "    </tr>\n",
       "    <tr>\n",
       "      <th>3</th>\n",
       "      <td>https://is1-2.housingcdn.com/4f2250e8/437d02a8...</td>\n",
       "      <td>1.6 Cr - 3.5 Cr</td>\n",
       "      <td>EMI starts at 79.38 K</td>\n",
       "      <td>NaN</td>\n",
       "      <td>NaN</td>\n",
       "      <td>NaN</td>\n",
       "      <td>NaN</td>\n",
       "      <td>NaN</td>\n",
       "      <td>NaN</td>\n",
       "      <td>Seawoods,Palm Beach Road - Seawoods,Navi Mumbai</td>\n",
       "      <td>...</td>\n",
       "      <td>Jun, 2024</td>\n",
       "      <td>32.43 K/sq.ft</td>\n",
       "      <td>NaN</td>\n",
       "      <td>Seawoods Residences Phase Iisa premium housing...</td>\n",
       "      <td>NaN</td>\n",
       "      <td>NaN</td>\n",
       "      <td>s.v.incorporation</td>\n",
       "      <td>Seller + 2 more</td>\n",
       "      <td>View Phone</td>\n",
       "      <td>Contact</td>\n",
       "    </tr>\n",
       "    <tr>\n",
       "      <th>4</th>\n",
       "      <td>https://is1-2.housingcdn.com/4f2250e8/dea68ac2...</td>\n",
       "      <td>1.37 Cr - 2.85 Cr</td>\n",
       "      <td>EMI starts at 68.20 K</td>\n",
       "      <td>NaN</td>\n",
       "      <td>NaN</td>\n",
       "      <td>NaN</td>\n",
       "      <td>NaN</td>\n",
       "      <td>Nerul,Navi Mumbai</td>\n",
       "      <td>NaN</td>\n",
       "      <td>Nerul,Navi Mumbai</td>\n",
       "      <td>...</td>\n",
       "      <td>Jun, 2025</td>\n",
       "      <td>21.67 K/sq.ft</td>\n",
       "      <td>NaN</td>\n",
       "      <td>Moreshwar 19 East is a residential project dev...</td>\n",
       "      <td>https://is1-3.housingcdn.com/fb15c03b/0ea26e88...</td>\n",
       "      <td>NaN</td>\n",
       "      <td>Bhagat Real Estate</td>\n",
       "      <td>Seller + 1 more</td>\n",
       "      <td>View Phone</td>\n",
       "      <td>Contact</td>\n",
       "    </tr>\n",
       "  </tbody>\n",
       "</table>\n",
       "<p>5 rows × 21 columns</p>\n",
       "</div>"
      ],
      "text/plain": [
       "                                               Image              price  \\\n",
       "0                                                NaN      2 Cr - 3.7 Cr   \n",
       "1                                                NaN    20.0 L - 33.5 L   \n",
       "2  https://is1-2.housingcdn.com/01c16c28/1dafa833...             2.5 Cr   \n",
       "3  https://is1-2.housingcdn.com/4f2250e8/437d02a8...    1.6 Cr - 3.5 Cr   \n",
       "4  https://is1-2.housingcdn.com/4f2250e8/dea68ac2...  1.37 Cr - 2.85 Cr   \n",
       "\n",
       "                       emi   a   size   b   c            society   d  \\\n",
       "0    EMI starts at 99.29 K NaN    NaN NaN NaN                NaN NaN   \n",
       "1    EMI starts at 10.59 K NaN    NaN NaN NaN                NaN NaN   \n",
       "2  EMI starts at 1.24 Lacs NaN  2 BHK NaN NaN  Metro Tulsi Sagar NaN   \n",
       "3    EMI starts at 79.38 K NaN    NaN NaN NaN                NaN NaN   \n",
       "4    EMI starts at 68.20 K NaN    NaN NaN NaN  Nerul,Navi Mumbai NaN   \n",
       "\n",
       "                                          location  ...     total_sqft  \\\n",
       "0                                Nerul,Navi Mumbai  ...      Jun, 2024   \n",
       "1                              Khopoli,Navi Mumbai  ...  Ready to Move   \n",
       "2                     Sector 28, Nerul,Navi Mumbai  ...     1200 sq.ft   \n",
       "3  Seawoods,Palm Beach Road - Seawoods,Navi Mumbai  ...      Jun, 2024   \n",
       "4                                Nerul,Navi Mumbai  ...      Jun, 2025   \n",
       "\n",
       "  price_per_sqft Unnamed: 13  \\\n",
       "0  22.08 K/sq.ft         NaN   \n",
       "1            NaN         NaN   \n",
       "2  20.83 K/sq.ft         NaN   \n",
       "3  32.43 K/sq.ft         NaN   \n",
       "4  21.67 K/sq.ft         NaN   \n",
       "\n",
       "                                         description  \\\n",
       "0  L And T Seawoods Residences North Towers is a ...   \n",
       "1  Situated in Khopoli at Shri Ram Nagar, Neelkan...   \n",
       "2  2 BHK for sale on PALM BEACH ROAD at Nerul, on...   \n",
       "3  Seawoods Residences Phase Iisa premium housing...   \n",
       "4  Moreshwar 19 East is a residential project dev...   \n",
       "\n",
       "                                               image   e  \\\n",
       "0  https://is1-3.housingcdn.com/fb15c03b/616f2027... NaN   \n",
       "1  https://is1-3.housingcdn.com/0b8ad14c/75ff3828... NaN   \n",
       "2  https://is1-2.housingcdn.com/fb15c03b/3e887d39... NaN   \n",
       "3                                                NaN NaN   \n",
       "4  https://is1-3.housingcdn.com/fb15c03b/0ea26e88... NaN   \n",
       "\n",
       "                  agent            Title         cta     cta8  \n",
       "0        HomeBazaar.com           Seller  View Phone  Contact  \n",
       "1  Neelkanth Properties        Developer  View Phone  Contact  \n",
       "2          Shokin Bafna              NaN  View Phone  Contact  \n",
       "3     s.v.incorporation  Seller + 2 more  View Phone  Contact  \n",
       "4    Bhagat Real Estate  Seller + 1 more  View Phone  Contact  \n",
       "\n",
       "[5 rows x 21 columns]"
      ]
     },
     "execution_count": 2,
     "metadata": {},
     "output_type": "execute_result"
    }
   ],
   "source": [
    "df1 = pd.read_csv(\"neruldata.csv\")\n",
    "df1.head()"
   ]
  },
  {
   "cell_type": "code",
   "execution_count": 3,
   "id": "567f335d",
   "metadata": {},
   "outputs": [
    {
     "data": {
      "text/plain": [
       "(766, 21)"
      ]
     },
     "execution_count": 3,
     "metadata": {},
     "output_type": "execute_result"
    }
   ],
   "source": [
    "df1.shape"
   ]
  },
  {
   "cell_type": "code",
   "execution_count": 4,
   "id": "7f780267",
   "metadata": {},
   "outputs": [
    {
     "data": {
      "text/plain": [
       "(766, 5)"
      ]
     },
     "execution_count": 4,
     "metadata": {},
     "output_type": "execute_result"
    }
   ],
   "source": [
    "df2 = df1.drop(['Image','d','emi','a','b','c','society','possession','Unnamed: 13','image', 'e', 'agent', 'Title', 'cta', 'cta8','description'],axis='columns')\n",
    "df2.shape"
   ]
  },
  {
   "cell_type": "code",
   "execution_count": 5,
   "id": "669823fe",
   "metadata": {},
   "outputs": [
    {
     "data": {
      "text/plain": [
       "price               0\n",
       "size              264\n",
       "location          518\n",
       "total_sqft         92\n",
       "price_per_sqft    211\n",
       "dtype: int64"
      ]
     },
     "execution_count": 5,
     "metadata": {},
     "output_type": "execute_result"
    }
   ],
   "source": [
    "df2.isnull().sum()"
   ]
  },
  {
   "cell_type": "code",
   "execution_count": 6,
   "id": "accbb2ee",
   "metadata": {},
   "outputs": [
    {
     "data": {
      "text/plain": [
       "price             0\n",
       "size              0\n",
       "location          0\n",
       "total_sqft        0\n",
       "price_per_sqft    0\n",
       "dtype: int64"
      ]
     },
     "execution_count": 6,
     "metadata": {},
     "output_type": "execute_result"
    }
   ],
   "source": [
    "df3 = df2.dropna()\n",
    "df3.isnull().sum()"
   ]
  },
  {
   "cell_type": "code",
   "execution_count": 7,
   "id": "45e29917",
   "metadata": {},
   "outputs": [
    {
     "data": {
      "text/plain": [
       "(244, 5)"
      ]
     },
     "execution_count": 7,
     "metadata": {},
     "output_type": "execute_result"
    }
   ],
   "source": [
    "df3.shape"
   ]
  },
  {
   "cell_type": "code",
   "execution_count": 8,
   "id": "ba7cd8dc",
   "metadata": {},
   "outputs": [
    {
     "name": "stderr",
     "output_type": "stream",
     "text": [
      "C:\\Users\\Umesh\\AppData\\Local\\Temp/ipykernel_17212/2716584372.py:1: SettingWithCopyWarning: \n",
      "A value is trying to be set on a copy of a slice from a DataFrame.\n",
      "Try using .loc[row_indexer,col_indexer] = value instead\n",
      "\n",
      "See the caveats in the documentation: https://pandas.pydata.org/pandas-docs/stable/user_guide/indexing.html#returning-a-view-versus-a-copy\n",
      "  df3['bhk'] = df3['size'].apply(lambda x: int(x.split(' ')[0]))\n"
     ]
    },
    {
     "data": {
      "text/plain": [
       "array([ 2,  4, 10,  3,  1,  5,  6,  0], dtype=int64)"
      ]
     },
     "execution_count": 8,
     "metadata": {},
     "output_type": "execute_result"
    }
   ],
   "source": [
    "df3['bhk'] = df3['size'].apply(lambda x: int(x.split(' ')[0]))\n",
    "df3.bhk.unique()"
   ]
  },
  {
   "cell_type": "code",
   "execution_count": 9,
   "id": "26962a6d",
   "metadata": {},
   "outputs": [],
   "source": [
    "def is_float(x):\n",
    "    try:\n",
    "        float(x)\n",
    "    except:\n",
    "        return False\n",
    "    return True"
   ]
  },
  {
   "cell_type": "code",
   "execution_count": 10,
   "id": "77efd859",
   "metadata": {},
   "outputs": [
    {
     "data": {
      "text/html": [
       "<div>\n",
       "<style scoped>\n",
       "    .dataframe tbody tr th:only-of-type {\n",
       "        vertical-align: middle;\n",
       "    }\n",
       "\n",
       "    .dataframe tbody tr th {\n",
       "        vertical-align: top;\n",
       "    }\n",
       "\n",
       "    .dataframe thead th {\n",
       "        text-align: right;\n",
       "    }\n",
       "</style>\n",
       "<table border=\"1\" class=\"dataframe\">\n",
       "  <thead>\n",
       "    <tr style=\"text-align: right;\">\n",
       "      <th></th>\n",
       "      <th>price</th>\n",
       "      <th>size</th>\n",
       "      <th>location</th>\n",
       "      <th>total_sqft</th>\n",
       "      <th>price_per_sqft</th>\n",
       "      <th>bhk</th>\n",
       "    </tr>\n",
       "  </thead>\n",
       "  <tbody>\n",
       "    <tr>\n",
       "      <th>2</th>\n",
       "      <td>2.5 Cr</td>\n",
       "      <td>2 BHK</td>\n",
       "      <td>Sector 28, Nerul,Navi Mumbai</td>\n",
       "      <td>1200 sq.ft</td>\n",
       "      <td>20.83 K/sq.ft</td>\n",
       "      <td>2</td>\n",
       "    </tr>\n",
       "    <tr>\n",
       "      <th>5</th>\n",
       "      <td>6.5 Cr</td>\n",
       "      <td>4 BHK</td>\n",
       "      <td>Sector 6, Nerul,Navi Mumbai</td>\n",
       "      <td>3195 sq.ft</td>\n",
       "      <td>20.34 K/sq.ft</td>\n",
       "      <td>4</td>\n",
       "    </tr>\n",
       "    <tr>\n",
       "      <th>6</th>\n",
       "      <td>1.85 Cr</td>\n",
       "      <td>2 BHK</td>\n",
       "      <td>Sector 11, Nerul,Navi Mumbai</td>\n",
       "      <td>1250 sq.ft</td>\n",
       "      <td>14.80 K/sq.ft</td>\n",
       "      <td>2</td>\n",
       "    </tr>\n",
       "    <tr>\n",
       "      <th>7</th>\n",
       "      <td>18.0 Cr</td>\n",
       "      <td>10 BHK</td>\n",
       "      <td>Sector 23, Nerul,Navi Mumbai</td>\n",
       "      <td>12000 sq.ft</td>\n",
       "      <td>15.00 K/sq.ft</td>\n",
       "      <td>10</td>\n",
       "    </tr>\n",
       "    <tr>\n",
       "      <th>8</th>\n",
       "      <td>6.5 Cr</td>\n",
       "      <td>4 BHK</td>\n",
       "      <td>Sector 28, Nerul,Navi Mumbai</td>\n",
       "      <td>2705 sq.ft</td>\n",
       "      <td>24.03 K/sq.ft</td>\n",
       "      <td>4</td>\n",
       "    </tr>\n",
       "    <tr>\n",
       "      <th>12</th>\n",
       "      <td>2.8 Cr</td>\n",
       "      <td>3 BHK</td>\n",
       "      <td>Sector 28, Nerul,Navi Mumbai</td>\n",
       "      <td>1404 sq.ft</td>\n",
       "      <td>19.94 K/sq.ft</td>\n",
       "      <td>3</td>\n",
       "    </tr>\n",
       "    <tr>\n",
       "      <th>13</th>\n",
       "      <td>1.9 Cr</td>\n",
       "      <td>2 BHK</td>\n",
       "      <td>Sector 19A, Nerul,Navi Mumbai</td>\n",
       "      <td>1150 sq.ft</td>\n",
       "      <td>16.52 K/sq.ft</td>\n",
       "      <td>2</td>\n",
       "    </tr>\n",
       "    <tr>\n",
       "      <th>15</th>\n",
       "      <td>2.0 Cr</td>\n",
       "      <td>2 BHK</td>\n",
       "      <td>Sector 19, Nerul,Navi Mumbai</td>\n",
       "      <td>1230 sq.ft</td>\n",
       "      <td>16.26 K/sq.ft</td>\n",
       "      <td>2</td>\n",
       "    </tr>\n",
       "    <tr>\n",
       "      <th>16</th>\n",
       "      <td>2.91 Cr</td>\n",
       "      <td>3 BHK</td>\n",
       "      <td>Sector 12, Nerul,Navi Mumbai</td>\n",
       "      <td>1765 sq.ft</td>\n",
       "      <td>16.49 K/sq.ft</td>\n",
       "      <td>3</td>\n",
       "    </tr>\n",
       "    <tr>\n",
       "      <th>18</th>\n",
       "      <td>10.0 Cr</td>\n",
       "      <td>4 BHK</td>\n",
       "      <td>Sector 14, Nerul,Navi Mumbai</td>\n",
       "      <td>3800 sq.ft</td>\n",
       "      <td>26.32 K/sq.ft</td>\n",
       "      <td>4</td>\n",
       "    </tr>\n",
       "  </tbody>\n",
       "</table>\n",
       "</div>"
      ],
      "text/plain": [
       "      price     size                       location   total_sqft  \\\n",
       "2    2.5 Cr    2 BHK   Sector 28, Nerul,Navi Mumbai   1200 sq.ft   \n",
       "5    6.5 Cr    4 BHK    Sector 6, Nerul,Navi Mumbai   3195 sq.ft   \n",
       "6   1.85 Cr    2 BHK   Sector 11, Nerul,Navi Mumbai   1250 sq.ft   \n",
       "7   18.0 Cr  10 BHK    Sector 23, Nerul,Navi Mumbai  12000 sq.ft   \n",
       "8    6.5 Cr    4 BHK   Sector 28, Nerul,Navi Mumbai   2705 sq.ft   \n",
       "12   2.8 Cr    3 BHK   Sector 28, Nerul,Navi Mumbai   1404 sq.ft   \n",
       "13   1.9 Cr    2 BHK  Sector 19A, Nerul,Navi Mumbai   1150 sq.ft   \n",
       "15   2.0 Cr    2 BHK   Sector 19, Nerul,Navi Mumbai   1230 sq.ft   \n",
       "16  2.91 Cr    3 BHK   Sector 12, Nerul,Navi Mumbai   1765 sq.ft   \n",
       "18  10.0 Cr    4 BHK   Sector 14, Nerul,Navi Mumbai   3800 sq.ft   \n",
       "\n",
       "   price_per_sqft  bhk  \n",
       "2   20.83 K/sq.ft    2  \n",
       "5   20.34 K/sq.ft    4  \n",
       "6   14.80 K/sq.ft    2  \n",
       "7   15.00 K/sq.ft   10  \n",
       "8   24.03 K/sq.ft    4  \n",
       "12  19.94 K/sq.ft    3  \n",
       "13  16.52 K/sq.ft    2  \n",
       "15  16.26 K/sq.ft    2  \n",
       "16  16.49 K/sq.ft    3  \n",
       "18  26.32 K/sq.ft    4  "
      ]
     },
     "execution_count": 10,
     "metadata": {},
     "output_type": "execute_result"
    }
   ],
   "source": [
    "df3[~df3['total_sqft'].apply(is_float)].head(10)"
   ]
  },
  {
   "cell_type": "code",
   "execution_count": 11,
   "id": "c4db108b",
   "metadata": {},
   "outputs": [],
   "source": [
    "def convert_sqft_to_num(x):\n",
    "    tokens = x.split('-')\n",
    "    if len(tokens) == 2:\n",
    "        return (float(tokens[0])+float(tokens[1]))/2\n",
    "    try:\n",
    "        return float(x)\n",
    "    except:\n",
    "        return None"
   ]
  },
  {
   "cell_type": "code",
   "execution_count": 12,
   "id": "dad03c04",
   "metadata": {},
   "outputs": [
    {
     "data": {
      "text/html": [
       "<div>\n",
       "<style scoped>\n",
       "    .dataframe tbody tr th:only-of-type {\n",
       "        vertical-align: middle;\n",
       "    }\n",
       "\n",
       "    .dataframe tbody tr th {\n",
       "        vertical-align: top;\n",
       "    }\n",
       "\n",
       "    .dataframe thead th {\n",
       "        text-align: right;\n",
       "    }\n",
       "</style>\n",
       "<table border=\"1\" class=\"dataframe\">\n",
       "  <thead>\n",
       "    <tr style=\"text-align: right;\">\n",
       "      <th></th>\n",
       "      <th>price</th>\n",
       "      <th>size</th>\n",
       "      <th>location</th>\n",
       "      <th>total_sqft</th>\n",
       "      <th>price_per_sqft</th>\n",
       "      <th>bhk</th>\n",
       "    </tr>\n",
       "  </thead>\n",
       "  <tbody>\n",
       "  </tbody>\n",
       "</table>\n",
       "</div>"
      ],
      "text/plain": [
       "Empty DataFrame\n",
       "Columns: [price, size, location, total_sqft, price_per_sqft, bhk]\n",
       "Index: []"
      ]
     },
     "execution_count": 12,
     "metadata": {},
     "output_type": "execute_result"
    }
   ],
   "source": [
    "df4 = df3.copy()\n",
    "df4.total_sqft = df4.total_sqft.apply(convert_sqft_to_num)\n",
    "df4 = df4[df4.total_sqft.notnull()]\n",
    "df4.head(2)"
   ]
  },
  {
   "cell_type": "code",
   "execution_count": 13,
   "id": "f1fc94e0",
   "metadata": {},
   "outputs": [
    {
     "data": {
      "text/plain": [
       "price                                  1.75 Cr\n",
       "size                                     2 BHK\n",
       "location          Sector 27, Nerul,Navi Mumbai\n",
       "total_sqft                          1150 sq.ft\n",
       "price_per_sqft                   15.22 K/sq.ft\n",
       "bhk                                          2\n",
       "Name: 30, dtype: object"
      ]
     },
     "execution_count": 13,
     "metadata": {},
     "output_type": "execute_result"
    }
   ],
   "source": [
    "df3.loc[30]\n"
   ]
  },
  {
   "cell_type": "code",
   "execution_count": 14,
   "id": "711bdadc",
   "metadata": {},
   "outputs": [
    {
     "data": {
      "text/plain": [
       "count               244\n",
       "unique              198\n",
       "top       15.00 K/sq.ft\n",
       "freq                  7\n",
       "Name: price_per_sqft, dtype: object"
      ]
     },
     "execution_count": 14,
     "metadata": {},
     "output_type": "execute_result"
    }
   ],
   "source": [
    "df3_stats = df3['price_per_sqft'].describe()\n",
    "df3_stats"
   ]
  },
  {
   "cell_type": "code",
   "execution_count": 15,
   "id": "a5e27cd3",
   "metadata": {},
   "outputs": [],
   "source": [
    "df3.to_csv(\"cleaneddata.csv\",index=False)"
   ]
  },
  {
   "cell_type": "code",
   "execution_count": null,
   "id": "e77ca6f2",
   "metadata": {},
   "outputs": [],
   "source": [
    "df5 = pd.read_csv(\"cleaneddata1.csv\")\n",
    "df5.head()"
   ]
  },
  {
   "cell_type": "code",
   "execution_count": null,
   "id": "9c8554bc",
   "metadata": {},
   "outputs": [],
   "source": []
  },
  {
   "cell_type": "code",
   "execution_count": null,
   "id": "804d4796",
   "metadata": {},
   "outputs": [],
   "source": []
  },
  {
   "cell_type": "code",
   "execution_count": null,
   "id": "bebcbc9d",
   "metadata": {},
   "outputs": [],
   "source": []
  },
  {
   "cell_type": "code",
   "execution_count": null,
   "id": "d729fe16",
   "metadata": {},
   "outputs": [],
   "source": []
  },
  {
   "cell_type": "code",
   "execution_count": null,
   "id": "ecbef1d9",
   "metadata": {},
   "outputs": [],
   "source": []
  },
  {
   "cell_type": "code",
   "execution_count": null,
   "id": "fc8b4693",
   "metadata": {},
   "outputs": [],
   "source": []
  }
 ],
 "metadata": {
  "kernelspec": {
   "display_name": "Python 3 (ipykernel)",
   "language": "python",
   "name": "python3"
  },
  "language_info": {
   "codemirror_mode": {
    "name": "ipython",
    "version": 3
   },
   "file_extension": ".py",
   "mimetype": "text/x-python",
   "name": "python",
   "nbconvert_exporter": "python",
   "pygments_lexer": "ipython3",
   "version": "3.9.7"
  }
 },
 "nbformat": 4,
 "nbformat_minor": 5
}
